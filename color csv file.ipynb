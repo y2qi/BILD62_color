{
 "cells": [
  {
   "cell_type": "code",
   "execution_count": 1,
   "id": "a5af29f8",
   "metadata": {},
   "outputs": [],
   "source": [
    "import pandas as pd\n"
   ]
  },
  {
   "cell_type": "code",
   "execution_count": 2,
   "id": "82108859",
   "metadata": {},
   "outputs": [],
   "source": [
    "raw_data = {'color': ['red', 'orange','yellow','green','cyan','blue','violet'],\n",
    "           'wavelength max(nm)':[750,620,590,570,520,495,450],\n",
    "           'wavelength min(nm)':[620,590,570,495,490,450,380]}\n"
   ]
  },
  {
   "cell_type": "code",
   "execution_count": 3,
   "id": "c4166e9f",
   "metadata": {},
   "outputs": [],
   "source": [
    "df = pd.DataFrame(raw_data, columns = ['color','wavelength max(nm)','wavelength min(nm)'])"
   ]
  },
  {
   "cell_type": "code",
   "execution_count": 14,
   "id": "a046a5a8",
   "metadata": {},
   "outputs": [],
   "source": [
    "df.to_csv('color.csv')"
   ]
  },
  {
   "cell_type": "code",
   "execution_count": null,
   "id": "8cfcec84",
   "metadata": {},
   "outputs": [],
   "source": []
  }
 ],
 "metadata": {
  "kernelspec": {
   "display_name": "Python 3 (ipykernel)",
   "language": "python",
   "name": "python3"
  },
  "language_info": {
   "codemirror_mode": {
    "name": "ipython",
    "version": 3
   },
   "file_extension": ".py",
   "mimetype": "text/x-python",
   "name": "python",
   "nbconvert_exporter": "python",
   "pygments_lexer": "ipython3",
   "version": "3.9.5"
  }
 },
 "nbformat": 4,
 "nbformat_minor": 5
}
